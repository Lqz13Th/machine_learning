{
 "cells": [
  {
   "cell_type": "code",
   "execution_count": null,
   "id": "4c30d194-5897-4d42-a831-d70640c473aa",
   "metadata": {},
   "outputs": [],
   "source": [
    "import polars as pl\n",
    "import heapq\n",
    "\n",
    "def build_long_cross_sections(symbol_dfs: dict[str, pl.DataFrame]) -> pl.DataFrame:\n",
    "    # 准备事件堆\n",
    "    events = []\n",
    "    for symbol, df in symbol_dfs.items():\n",
    "        df_sorted = df.sort(\"timestamp\")\n",
    "        for ts in df_sorted[\"timestamp\"].to_list():\n",
    "            events.append((ts, symbol))\n",
    "    heapq.heapify(events)\n",
    "\n",
    "    latest = {}      # symbol -> 最新行（dict）\n",
    "    snapshots = []   # 存储 long format 的每条记录\n",
    "\n",
    "    while events:\n",
    "        ts, symbol = heapq.heappop(events)\n",
    "        df = symbol_dfs[symbol]\n",
    "        # 找出 <= ts 的最近一行\n",
    "        row = (\n",
    "            df\n",
    "            .filter(pl.col(\"timestamp\") <= ts)\n",
    "            .sort(\"timestamp\", descending=True)\n",
    "            .head(1)\n",
    "            .to_dicts()[0]\n",
    "        )\n",
    "        latest[symbol] = row\n",
    "\n",
    "        # 如果所有币种都已经有数据，生成一组 snapshot（多行）\n",
    "        if len(latest) == len(symbol_dfs):\n",
    "            for sym, rec in latest.items():\n",
    "                row_data = {\"timestamp\": ts, \"symbol\": sym}\n",
    "                for k, v in rec.items():\n",
    "                    if k != \"timestamp\":\n",
    "                        row_data[k] = v\n",
    "                snapshots.append(row_data)\n",
    "\n",
    "    return pl.DataFrame(snapshots)\n"
   ]
  }
 ],
 "metadata": {
  "kernelspec": {
   "display_name": "Python (machine_learning)",
   "language": "python",
   "name": "machine_learning"
  },
  "language_info": {
   "codemirror_mode": {
    "name": "ipython",
    "version": 3
   },
   "file_extension": ".py",
   "mimetype": "text/x-python",
   "name": "python",
   "nbconvert_exporter": "python",
   "pygments_lexer": "ipython3",
   "version": "3.10.16"
  }
 },
 "nbformat": 4,
 "nbformat_minor": 5
}
