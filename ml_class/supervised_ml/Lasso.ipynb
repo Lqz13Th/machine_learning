{
 "cells": [
  {
   "cell_type": "code",
   "execution_count": 1,
   "id": "7cd28ddd-792e-4754-b675-f5686c759235",
   "metadata": {},
   "outputs": [],
   "source": [
    "import pandas as pd\n",
    "from tqdm import tqdm\n",
    "\n",
    "def generate_px_pct_bar(\n",
    "        df: pd.DataFrame,\n",
    "        threshold: float,\n",
    "        window: int,\n",
    ") -> pd.DataFrame:\n",
    "    last_px = df.iloc[0][\"price\"]\n",
    "    last_ts = df.iloc[0][\"transact_time\"]\n",
    "\n",
    "    bars = []\n",
    "    sum_buy_size = 0\n",
    "    sum_sell_size = 0\n",
    "\n",
    "    print(last_px)\n",
    "    for i in tqdm(range(len(df)), desc='Processing bars'):\n",
    "        px = df.iloc[i][\"price\"]\n",
    "        sz = df.iloc[i][\"quantity\"]\n",
    "        ts = df.iloc[i][\"transact_time\"]\n",
    "        side = -1 if df.iloc[i][\"is_buyer_maker\"] else 1  # 判断买卖方向 (True 为卖方主导，False 为买方主导)\n",
    "\n",
    "        px_pct = (px - last_px) / last_px\n",
    "\n",
    "        if side == 1:\n",
    "            sum_buy_size += sz\n",
    "\n",
    "        else:\n",
    "            sum_sell_size += sz\n",
    "\n",
    "        if abs(px_pct) > threshold:\n",
    "            ts_duration = ts - last_ts\n",
    "\n",
    "            bar = {\n",
    "                \"price\": px,\n",
    "                \"sum_buy_size\": sum_buy_size,\n",
    "                \"sum_sell_size\": sum_sell_size,\n",
    "                \"timestamp_duration\": ts_duration,\n",
    "                \"price_pct_change\": px_pct,\n",
    "                'buy_sell_imbalance': sum_buy_size - sum_sell_size,\n",
    "                \"change_side\": 1 if px_pct > 0 else -1,\n",
    "            }\n",
    "            bars.append(bar)\n",
    "\n",
    "            last_px = px\n",
    "            last_ts = ts\n",
    "            sum_buy_size = 0\n",
    "            sum_sell_size = 0\n",
    "\n",
    "    bars_df = pd.DataFrame(bars)\n",
    "    bars_df['future_price_pct_change'] = bars_df['price'].shift(-window) / bars_df['price'] - 1\n",
    "    bars_df = bars_df.dropna()\n",
    "\n",
    "    return bars_df\n"
   ]
  },
  {
   "cell_type": "code",
   "execution_count": 2,
   "id": "ddbe7c65-5ee2-45c9-8769-31ab9dd45251",
   "metadata": {},
   "outputs": [
    {
     "name": "stdout",
     "output_type": "stream",
     "text": [
      "         agg_trade_id  price  quantity  first_trade_id  last_trade_id  transact_time  is_buyer_maker\n",
      "0           272637339  9.972     115.9       632223322      632223326  1711929600021           False\n",
      "1           272637340  9.973      11.0       632223327      632223328  1711929600027           False\n",
      "2           272637341  9.973      24.8       632223329      632223333  1711929600232           False\n",
      "3           272637342  9.973      74.5       632223334      632223335  1711929604764            True\n",
      "4           272637343  9.974      44.6       632223336      632223340  1711929605043           False\n",
      "...               ...    ...       ...             ...            ...            ...             ...\n",
      "5790731     278428070  5.623     142.1       656988318      656988324  1714521596497            True\n",
      "5790732     278428071  5.622      17.7       656988325      656988325  1714521597538            True\n",
      "5790733     278428072  5.622       1.8       656988326      656988326  1714521597733            True\n",
      "5790734     278428073  5.623       6.1       656988327      656988327  1714521598150           False\n",
      "5790735     278428074  5.622     155.2       656988328      656988333  1714521599194            True\n",
      "\n",
      "[5790736 rows x 7 columns]\n"
     ]
    }
   ],
   "source": [
    "import pandas as pd \n",
    "pd.set_option(\"display.max_rows\", 5000)\n",
    "pd.set_option(\"expand_frame_repr\", False)\n",
    "\n",
    "agg_trade_data = pd.read_csv(\"C:/Work Files/data/backtest/aggtrade/FILUSDT/FILUSDT-aggTrades-2024-04.csv\")\n",
    "print(agg_trade_data)"
   ]
  },
  {
   "cell_type": "code",
   "execution_count": null,
   "id": "d1955f48-df99-42e2-9b05-36a59b3b77dd",
   "metadata": {},
   "outputs": [
    {
     "name": "stdout",
     "output_type": "stream",
     "text": [
      "9.972\n"
     ]
    },
    {
     "name": "stderr",
     "output_type": "stream",
     "text": [
      "Processing bars:  90%|████████████████████████████████████████████████████████████████████████████████████████████████████████████████████████████████████████████████▌               | 5231245/5790736 [06:58<00:44, 12626.99it/s]"
     ]
    }
   ],
   "source": [
    "px_pct_bar = generate_px_pct_bar(\n",
    "    df=agg_trade_data,\n",
    "    threshold=0.01,\n",
    "    window=3,\n",
    ")\n",
    "\n",
    "print(px_pct_bar)"
   ]
  },
  {
   "cell_type": "code",
   "execution_count": null,
   "id": "c65e8263-81a9-4456-a334-ae29e2cefa87",
   "metadata": {},
   "outputs": [],
   "source": [
    "from sklearn.linear_model import Lasso\n",
    "from sklearn.model_selection import train_test_split\n",
    "\n",
    "X = px_pct_bar[[\n",
    "    'price',\n",
    "    'sum_buy_size',\n",
    "    'sum_sell_size',\n",
    "    'timestamp_duration',\n",
    "    'timestamp_duration',\n",
    "    'price_pct_change',\n",
    "    'buy_sell_imbalance',\n",
    "    'change_side'\n",
    "]]\n",
    "\n",
    "y = px_pct_bar['future_price_pct_change']\n",
    "\n",
    "X_train, X_test, y_train, y_test = train_test_split(X, y, test_size=0.2, random_state=42)\n",
    "\n",
    "lasso = Lasso(alpha=0.1)\n",
    "lasso.fit(X_train, y_train)\n",
    "\n",
    "print(\"Lasso Coefficients:\", lasso.coef_)\n",
    "print(\"Intercept:\", lasso.intercept_)\n",
    "\n",
    "# 测试集上进行预测\n",
    "y_predict = lasso.predict(X_test)"
   ]
  },
  {
   "cell_type": "code",
   "execution_count": null,
   "id": "89ba4196-e0c5-4717-8bb1-fe6767bf79bb",
   "metadata": {},
   "outputs": [],
   "source": []
  }
 ],
 "metadata": {
  "kernelspec": {
   "display_name": "Python 3 (ipykernel)",
   "language": "python",
   "name": "python3"
  },
  "language_info": {
   "codemirror_mode": {
    "name": "ipython",
    "version": 3
   },
   "file_extension": ".py",
   "mimetype": "text/x-python",
   "name": "python",
   "nbconvert_exporter": "python",
   "pygments_lexer": "ipython3",
   "version": "3.10.14"
  }
 },
 "nbformat": 4,
 "nbformat_minor": 5
}
